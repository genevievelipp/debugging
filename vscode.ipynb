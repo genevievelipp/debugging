{
 "cells": [
  {
   "attachments": {},
   "cell_type": "markdown",
   "metadata": {},
   "source": [
    "# Introduction to VS Code\n",
    "\n",
    "## What is VS Code\n",
    "So far we've seen how simple text files with the `.py` extension can be executed through the Python interpreter. You can always write Python code in any text editor that you'd like as long as you save the file with the \".py\" extension. As the amount of code in our project grows larger and becomes gets more complex, however, it is helpful to have tools to aid us in managing our files, editing our code, debugging our code, and running tests to verify code functionality. This is what integrated development environments (IDEs) are designed to do.\n",
    "\n",
    "## Why are we using VS Code?\n",
    "There are numerous IDEs out there that can be used with Python including PyCharm, Spyder, Emacs, Vi/Vim, Atom, Jupyter Lab, Jupyter Notebooks, Sublime Text, and Notepad++; they each have their pros and cons. However, one of the most popular IDEs today is Visual Studio Code, often referred to as VS Code, which has become something of a de facto standard in many data science circles - and for good reason! \n",
    "\n",
    "Below are some of the reasons for the popularity of VS Code (along with the Python extension), including that it is...\n",
    "- Free (with an active development team expanding its functionality)\n",
    "- Cross-platform, meaning you can use it on Windows, macOS, or Linux\n",
    "- Extensible through a large marketplace for custom extensions that expand the base features of the IDE \n",
    "- Highly customizable in appearance and functionality based on your needs including settings like hotkeys to speed up your development\n",
    "- Debugging-friendly through an in-built debugger integration that works well with Python\n",
    "- Supportive of test suites and enables you to run a variety of tests\n",
    "- Easy to use with both Python files (`.py`) and Jupyter Notebook files (`.ipynb`) and to quickly switch between files of those different formats\n",
    "- Designed to make version control with git simple and intuitive\n",
    "- Convenient for working with multiple Python environments to help you use the right version of Python and packages for each project that you're working on\n",
    "- Capable of linting, which analyzes your code for possible errors (much like when you're typing in Microsoft Word and a red squiggly line appears to tell you there is a spelling mistake)\n"
   ]
  },
  {
   "attachments": {},
   "cell_type": "markdown",
   "metadata": {},
   "source": [
    "\n",
    "## Tour of the VS Code interface\n",
    "\n",
    "When you launch VS Code, you'll typically be greeted by the welcome screen, as shown below, which gives you the option to open a folder that contains the files for your project. This screen also has some tutorials which may be helpful in learning various aspects of VS Code.\n",
    "\n",
    "![Interface overview](img-python/vscode-main.png)"
   ]
  },
  {
   "attachments": {},
   "cell_type": "markdown",
   "metadata": {},
   "source": [
    "In many of the exercises you work on in this course, you will open a Lab and the folder is opened for you automatically. Once the folder is open you'll see the main screen, which will typically be the editor screen, as shown below:\n",
    "\n",
    "![Interface overview](img-python/vscode-ann-main.png)"
   ]
  },
  {
   "attachments": {},
   "cell_type": "markdown",
   "metadata": {},
   "source": [
    "There are four main sections to the interface:\n",
    "1. **Editor**. This is where you write your code. You can customize this to open multiple files side-by-side based on your project needs.\n",
    "2. **Activity bar**. This allows you to switch between the various tools that are available through VS Code including the editor, search, debugger, and extensions marketplace, among others. Each time you click one of these tools, the side bar will change to show the content corresponding to the tool.\n",
    "3. **Side bar**. This area contains the content corresponding to the selected tool from the activity bar. For example, if you have the editor selected, you will see the files and folders listed that are present in the currently opened folder.\n",
    "4. **Status bar**. This will provide information about currently open projects and files, including the Python interpreter in use (e.g. the Python version and whether you're using any virtual environments - more on this later).\\"
   ]
  },
  {
   "attachments": {},
   "cell_type": "markdown",
   "metadata": {},
   "source": [
    "Let's dive a bit deeper into the tools that are present here:\n",
    "\n",
    "![Editor overview](img-python/vscode-ann-detail.png)"
   ]
  },
  {
   "attachments": {},
   "cell_type": "markdown",
   "metadata": {},
   "source": [
    "The editor also has a button to run your current file, although you can also run your file from the command line in the terminal. If you don't see a terminal window, just click \"Terminal\" at the top of the screen then select \"New Terminal\".\n",
    "\n",
    "The side bar contains numerous helpful tools including the file explorer, which shows you the content of the current directory and open files (as well as a list of all the functions in your code under \"outline\", so you can quickly navigate the open file).\n",
    "\n",
    "The search tool is also helpful as the number of files in your project increases and it search across all your files and can also be used to make replacements across a file or project:"
   ]
  },
  {
   "attachments": {},
   "cell_type": "markdown",
   "metadata": {},
   "source": [
    "![Search](img-python/vscode-search-py.png)"
   ]
  },
  {
   "attachments": {},
   "cell_type": "markdown",
   "metadata": {},
   "source": [
    "One of the most valuable characteristics of VS Code is its extensibility. The extensions marketplace is the source of helpful tools for getting more out of VS Code."
   ]
  },
  {
   "attachments": {},
   "cell_type": "markdown",
   "metadata": {},
   "source": [
    "![Search](img-python/vscode-extensions-py.png)"
   ]
  },
  {
   "attachments": {},
   "cell_type": "markdown",
   "metadata": {},
   "source": [
    "In particular, the most important extensions for Python programming is the Python extension, which provides IntelliSense (Pylance) for code completion and instant documentation access, linting (for showing us where errors may exist in our code), debugging, Jupyter Notebooks, code formatting, and more. The Python extension will install multiple extensions as well. Always check that the Python extension is installed before beginning any Python coding project. "
   ]
  },
  {
   "attachments": {},
   "cell_type": "markdown",
   "metadata": {},
   "source": [
    "The debugging pane is another exceptionally useful tool that allows us to use breakpoints to stop our code at specific lines and see what the content of all the variables are at that moment and even interact with the code, and even step through the code line-by-line to identify the source of errors. We'll discuss this in later reading in more detail."
   ]
  },
  {
   "attachments": {},
   "cell_type": "markdown",
   "metadata": {},
   "source": [
    "![Search](img-python/vscode-debug-py.png)"
   ]
  },
  {
   "attachments": {},
   "cell_type": "markdown",
   "metadata": {},
   "source": [
    "The last thing to mention is that you can access all of the settings of VS Code and the command palette either using keyboard shortcuts or by clicking the gear icon. This will provide a number of options:"
   ]
  },
  {
   "attachments": {},
   "cell_type": "markdown",
   "metadata": {},
   "source": [
    "![Options](img-python/vscode-settings.png)"
   ]
  },
  {
   "attachments": {},
   "cell_type": "markdown",
   "metadata": {},
   "source": [
    "The settings window provides you with a list of all of the customizations you can select from in VS Code from themes to default behaviors of any of the tools."
   ]
  },
  {
   "attachments": {},
   "cell_type": "markdown",
   "metadata": {},
   "source": [
    "![Options](img-python/vscode-settings-all.png)"
   ]
  },
  {
   "attachments": {},
   "cell_type": "markdown",
   "metadata": {},
   "source": [
    "The command palette gives you many tools accessible with just a few keystrokes. Almost anything you want to do in VS Code could be done through a command in the command palette, from opening and searching files, to modifying the VS Code interface."
   ]
  },
  {
   "attachments": {},
   "cell_type": "markdown",
   "metadata": {},
   "source": [
    "\n",
    "![Command](img-python/vscode-command-palette.png)"
   ]
  },
  {
   "attachments": {},
   "cell_type": "markdown",
   "metadata": {},
   "source": [
    "As you will see later, you can run Jupyter Notebooks easily in VS Code."
   ]
  },
  {
   "attachments": {},
   "cell_type": "markdown",
   "metadata": {},
   "source": [
    "## Basic use of VS Code\n",
    "\n",
    "Running Python files is quite simple. You can run code from the command line of the terminal. Alternatively, you can click the fun file button. Either way you'll see any resulting output in the terminal:"
   ]
  },
  {
   "attachments": {},
   "cell_type": "markdown",
   "metadata": {},
   "source": [
    "![Run Py](gif/run_py_file.gif)"
   ]
  },
  {
   "attachments": {},
   "cell_type": "markdown",
   "metadata": {},
   "source": [
    "There is also a tool called the interactive window (which is built on Jupyter, another tool we'll explore in more detail later). This allows you to run code snippets line by line while preserving the content of variables in memory. Let's take a look at running our simple file below in the interactive terminal, below. Unlike running on the command line, you can see that even after we've finished executing our code, the variables remain stored in memory so that we can continue to use them in further calculations:"
   ]
  },
  {
   "attachments": {},
   "cell_type": "markdown",
   "metadata": {},
   "source": [
    "![Interactive window](gif/interactive_window.gif)"
   ]
  },
  {
   "attachments": {},
   "cell_type": "markdown",
   "metadata": {},
   "source": [
    "One of the most compelling features of the interactive terminal is that you can use the \"jupyter:variables\" tab in the terminal pane to actually view the contents of variables (even lists!) and see them change as you execute more code. This can be tremendously helpful for understanding code output. While full unit tests are preferred whenever possible, seeing the output of code snippets can be incredibly helpful for the overall coding process, especially when working with data as we'll see later."
   ]
  },
  {
   "attachments": {},
   "cell_type": "markdown",
   "metadata": {},
   "source": [
    "![Interactive terminal](gif/interactive_terminal.gif)"
   ]
  },
  {
   "attachments": {},
   "cell_type": "markdown",
   "metadata": {},
   "source": [
    "While this is meant to give you a basic introduction to VS Code, there is much, much more that you can learn about the tool and the value of its other features will grow along with the variety and complexity of the projects that you work on. The best source of tutorials and details on the operation of VS Code is the exceptionally helpful [VS Code documentation which can be found here](https://code.visualstudio.com/docs)."
   ]
  }
 ],
 "metadata": {
  "kernelspec": {
   "display_name": "Python 3",
   "language": "python",
   "name": "python3"
  },
  "language_info": {
   "name": "python",
   "version": "3.8.2"
  },
  "orig_nbformat": 4,
  "vscode": {
   "interpreter": {
    "hash": "31f2aee4e71d21fbe5cf8b01ff0e069b9275f58929596ceb00d14d90e3e16cd6"
   }
  }
 },
 "nbformat": 4,
 "nbformat_minor": 2
}
